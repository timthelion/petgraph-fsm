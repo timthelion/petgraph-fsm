{
 "cells": [
  {
   "cell_type": "markdown",
   "metadata": {},
   "source": [
    "Programmable state machines in rust\n",
    "--------------------------------------------------------\n",
    "- Author: [Timothy Hobbs](https://timothy.hobbs.cz)\n",
    "- License: [CC-BY 4.0](https://creativecommons.org/licenses/by/4.0/)\n",
    "- Written: 1.2020\n",
    "- Send PRs to: [github](https://github.com/timthelion/rust-jupyter)\n",
    "\n",
    "[project homepage](https://github.com/timthelion/rust-pfsm) [ipynb](./pfsm.ipynb)\n",
    "\n",
    "Rust has several finite state machine packages such as [`rust-fsm`](https://github.com/eugene-babichenko/rust-fsm). However, all of them are meant for state machines who's state network is known at compile time. I needed a programmable state machine, so wrote my own, with the help of the petgraph library.\n",
    "\n",
    "Motivation\n",
    "----------------\n",
    "\n",
    "Programmable finite statemachines and or finite automata are best known for their use in the evaluation of regular expressions. Every regular expression can be converted into a parser wich is represented by a finite state machine \\*. They also have many many other uses. For example, the keymap of a configurable modal text editor such as vim is a programable FSM.\n",
    "\n",
    "\\* Actually, this is no longer true. Modern PERL style regex is too powerful to represent all regular expressions as FSMs."
   ]
  },
  {
   "cell_type": "code",
   "execution_count": 2,
   "metadata": {},
   "outputs": [],
   "source": [
    ":dep petgraph-fsm = {path=\"./\", features=[\"evcxr\"]}"
   ]
  },
  {
   "cell_type": "code",
   "execution_count": 3,
   "metadata": {},
   "outputs": [],
   "source": [
    ":dep petgraph"
   ]
  },
  {
   "cell_type": "code",
   "execution_count": 36,
   "metadata": {},
   "outputs": [],
   "source": [
    "extern crate petgraph_fsm;\n",
    "extern crate petgraph;\n",
    "use petgraph::*;\n",
    "use petgraph::graph::*;\n",
    "use petgraph::data::*;\n",
    "use petgraph::visit::*;\n",
    "use petgraph_fsm::*;\n",
    "use petgraph_fsm::evcxr::*;"
   ]
  },
  {
   "cell_type": "markdown",
   "metadata": {},
   "source": [
    " A \"real\" finite state machine does nothing but define:\n",
    "\n",
    " 1. A set of valid sequences of inputs\n",
    " 2. A mapping from each elemenent in each sequence to a state\n",
    " \n",
    "Here is an FSM which describes the behavior of my toaster oven."
   ]
  },
  {
   "cell_type": "code",
   "execution_count": 64,
   "metadata": {},
   "outputs": [
    {
     "ename": "Error",
     "evalue": "`toaster` does not live long enough",
     "output_type": "error",
     "traceback": [
      "let mut toaster_sm = mktoaster(&toaster);",
      "\u001b[91m                               ^^^^^^^^\u001b[0m \u001b[94mborrowed value does not live long enough\u001b[0m",
      "let mut toaster_sm = mktoaster(&toaster);",
      "\u001b[91m                     ^^^^^^^^^^^^^^^^^^^\u001b[0m \u001b[94margument requires that `toaster` is borrowed for `'static`\u001b[0m",
      "`toaster` does not live long enough"
     ]
    },
    {
     "ename": "Error",
     "evalue": "cannot move out of `toaster` because it is borrowed",
     "output_type": "error",
     "traceback": [
      "let mut toaster_sm = mktoaster(&toaster);",
      "\u001b[91m                               ^^^^^^^^\u001b[0m \u001b[94mborrow of `toaster` occurs here\u001b[0m",
      "let mut toaster_sm = mktoaster(&toaster);",
      "\u001b[91m                     ^^^^^^^^^^^^^^^^^^^\u001b[0m \u001b[94margument requires that `toaster` is borrowed for `'static`\u001b[0m",
      "cannot move out of `toaster` because it is borrowed"
     ]
    }
   ],
   "source": [
    "let mut toaster : Graph<&str, &str, petgraph::Directed> = Graph::new();\n",
    "let toaster_off = toaster.add_node(\"Toaster off\");\n",
    "let heat_on = toaster.add_node(\"Heat on (running)\");\n",
    "let heat_off = toaster.add_node(\"Heat off (running)\");\n",
    "toaster.add_edge(toaster_off, heat_on, \"Timer start\");\n",
    "toaster.add_edge(heat_on, toaster_off, \"Timer done\");\n",
    "toaster.add_edge(heat_off, toaster_off, \"Timer done\");\n",
    "toaster.add_edge(heat_on, heat_off, \"Temp > 200C\");\n",
    "toaster.add_edge(heat_off, heat_off, \"Temp > 200C\");\n",
    "toaster.add_edge(heat_off, heat_on, \"Temp < 180C\");\n",
    "toaster.add_edge(heat_on, heat_on, \"Temp < 180C\");\n",
    "toaster.add_edge(toaster_off, toaster_off, \"Temp < 180C\");\n",
    "toaster.add_edge(toaster_off, toaster_off, \"Temp > 200C\");\n",
    "pub fn mktoaster<'x>\n",
    " (toaster: &'x petgraph::Graph<&'static str, &'static str>)\n",
    " -> StateMachine<\n",
    "     'x,\n",
    "     &'x petgraph::Graph<&'static str, &'static str>,\n",
    "     &'static str,\n",
    "     ()>\n",
    "\n",
    "{\n",
    "    return StateMachine::new(\n",
    "        toaster,\n",
    "        \"Toaster off\",\n",
    "        &|ew1: &str, ew2| {\n",
    "           if ew1 == ew2 {Some(())} else {None}\n",
    "        },\n",
    "    ).unwrap();\n",
    "}\n",
    "let mut toaster_sm = mktoaster(&toaster);\n",
    "toaster_sm.draw_evcxr();"
   ]
  },
  {
   "cell_type": "markdown",
   "metadata": {},
   "source": [
    "Given this state machine, and a sequence of inputs, we can determine the state of the toaster."
   ]
  },
  {
   "cell_type": "code",
   "execution_count": 6,
   "metadata": {},
   "outputs": [
    {
     "ename": "Error",
     "evalue": "cannot find value `toaster_sm` in this scope",
     "output_type": "error",
     "traceback": [
      "toaster_sm.next(\"Timer start\");",
      "\u001b[91m^^^^^^^^^^\u001b[0m \u001b[94mnot found in this scope\u001b[0m",
      "cannot find value `toaster_sm` in this scope"
     ]
    },
    {
     "ename": "Error",
     "evalue": "cannot find value `toaster_sm` in this scope",
     "output_type": "error",
     "traceback": [
      "toaster_sm.next(\"Temp < 180C\");",
      "\u001b[91m^^^^^^^^^^\u001b[0m \u001b[94mnot found in this scope\u001b[0m",
      "cannot find value `toaster_sm` in this scope"
     ]
    },
    {
     "ename": "Error",
     "evalue": "cannot find value `toaster_sm` in this scope",
     "output_type": "error",
     "traceback": [
      "toaster_sm.next(\"Temp > 200C\");",
      "\u001b[91m^^^^^^^^^^\u001b[0m \u001b[94mnot found in this scope\u001b[0m",
      "cannot find value `toaster_sm` in this scope"
     ]
    },
    {
     "ename": "Error",
     "evalue": "cannot find value `toaster_sm` in this scope",
     "output_type": "error",
     "traceback": [
      "toaster_sm.next(\"Temp > 200C\");",
      "\u001b[91m^^^^^^^^^^\u001b[0m \u001b[94mnot found in this scope\u001b[0m",
      "cannot find value `toaster_sm` in this scope"
     ]
    },
    {
     "ename": "Error",
     "evalue": "cannot find value `toaster_sm` in this scope",
     "output_type": "error",
     "traceback": [
      "toaster_sm.next(\"Temp < 180C\");",
      "\u001b[91m^^^^^^^^^^\u001b[0m \u001b[94mnot found in this scope\u001b[0m",
      "cannot find value `toaster_sm` in this scope"
     ]
    },
    {
     "ename": "Error",
     "evalue": "cannot find value `toaster_sm` in this scope",
     "output_type": "error",
     "traceback": [
      "toaster_sm.next(\"Temp < 180C\");",
      "\u001b[91m^^^^^^^^^^\u001b[0m \u001b[94mnot found in this scope\u001b[0m",
      "cannot find value `toaster_sm` in this scope"
     ]
    },
    {
     "ename": "Error",
     "evalue": "cannot find value `toaster_sm` in this scope",
     "output_type": "error",
     "traceback": [
      "toaster_sm.next(\"Temp > 200C\");",
      "\u001b[91m^^^^^^^^^^\u001b[0m \u001b[94mnot found in this scope\u001b[0m",
      "cannot find value `toaster_sm` in this scope"
     ]
    },
    {
     "ename": "Error",
     "evalue": "cannot find value `toaster_sm` in this scope",
     "output_type": "error",
     "traceback": [
      "toaster_sm.draw_evcxr();",
      "\u001b[91m^^^^^^^^^^\u001b[0m \u001b[94mnot found in this scope\u001b[0m",
      "cannot find value `toaster_sm` in this scope"
     ]
    }
   ],
   "source": [
    "toaster_sm.next(\"Timer start\");\n",
    "toaster_sm.next(\"Temp < 180C\");\n",
    "toaster_sm.next(\"Temp > 200C\");\n",
    "toaster_sm.next(\"Temp > 200C\");\n",
    "toaster_sm.next(\"Temp < 180C\");\n",
    "toaster_sm.next(\"Temp < 180C\");\n",
    "toaster_sm.next(\"Temp > 200C\");\n",
    "toaster_sm.draw_evcxr();"
   ]
  },
  {
   "cell_type": "code",
   "execution_count": 7,
   "metadata": {},
   "outputs": [
    {
     "ename": "Error",
     "evalue": "cannot find value `toaster_sm` in this scope",
     "output_type": "error",
     "traceback": [
      "toaster_sm.next(\"Timer done\");",
      "\u001b[91m^^^^^^^^^^\u001b[0m \u001b[94mnot found in this scope\u001b[0m",
      "cannot find value `toaster_sm` in this scope"
     ]
    },
    {
     "ename": "Error",
     "evalue": "cannot find value `toaster_sm` in this scope",
     "output_type": "error",
     "traceback": [
      "toaster_sm.draw_evcxr();",
      "\u001b[91m^^^^^^^^^^\u001b[0m \u001b[94mnot found in this scope\u001b[0m",
      "cannot find value `toaster_sm` in this scope"
     ]
    }
   ],
   "source": [
    "toaster_sm.next(\"Timer done\");\n",
    "toaster_sm.draw_evcxr();"
   ]
  },
  {
   "cell_type": "markdown",
   "metadata": {},
   "source": [
    "This basic information is quite usefull in and of itself, and we can actually make a toaster controll circuit based on a state machine like this. If the state is \"heat on\" we make sure that the heat is turned on, otherwise we make sure the heat is turned off.\n",
    "\n",
    "A modified programmable state machine which associates `Action`s with each edge in the state graph, is rather more powerfull, however. Systems such as the aformentioned keymap of a modal editor are best expressed using such a modifidied state machine:"
   ]
  },
  {
   "cell_type": "code",
   "execution_count": 8,
   "metadata": {},
   "outputs": [],
   "source": [
    "#[derive(PartialEq, Clone)]\n",
    "struct Keymap {\n",
    "    key: String,\n",
    "    action: String,\n",
    "}\n",
    "\n",
    "use std::fmt;\n",
    "\n",
    "impl fmt::Display for Keymap {\n",
    "    fn fmt(&self, f: &mut fmt::Formatter<'_>) -> fmt::Result {\n",
    "        write!(f, \"Key: {}\\nAction: {}\", self.key, self.action)\n",
    "    }\n",
    "}\n",
    "\n",
    "#[derive(Debug, PartialEq, Clone)]\n",
    "enum Mode {\n",
    "    INSERT,\n",
    "    COMMAND,\n",
    "    VISUAL,\n",
    "}\n",
    "\n",
    "impl fmt::Display for Mode {\n",
    "    fn fmt(&self, f: &mut fmt::Formatter<'_>) -> fmt::Result {\n",
    "        write!(f, \"{:?}\", self)\n",
    "    }\n",
    "}"
   ]
  },
  {
   "cell_type": "code",
   "execution_count": 9,
   "metadata": {},
   "outputs": [
    {
     "ename": "Error",
     "evalue": "the trait bound `petgraph::Graph<Mode, Keymap>: petgraph::visit::IntoNodeReferences` is not satisfied",
     "output_type": "error",
     "traceback": [
      "let mut keymap_sm = StateMachine::new(",
      "\u001b[91m                    ^^^^^^^^^^^^^^^^^\u001b[0m \u001b[94mthe trait `petgraph::visit::IntoNodeReferences` is not implemented for `petgraph::Graph<Mode, Keymap>`\u001b[0m",
      "the trait bound `petgraph::Graph<Mode, Keymap>: petgraph::visit::IntoNodeReferences` is not satisfied"
     ]
    },
    {
     "ename": "Error",
     "evalue": "the trait bound `petgraph::Graph<Mode, Keymap>: petgraph::visit::IntoEdges` is not satisfied",
     "output_type": "error",
     "traceback": [
      "let mut keymap_sm = StateMachine::new(",
      "\u001b[91m                    ^^^^^^^^^^^^^^^^^\u001b[0m \u001b[94mthe trait `petgraph::visit::IntoEdges` is not implemented for `petgraph::Graph<Mode, Keymap>`\u001b[0m",
      "the trait bound `petgraph::Graph<Mode, Keymap>: petgraph::visit::IntoEdges` is not satisfied"
     ]
    },
    {
     "ename": "Error",
     "evalue": "no method named `draw_evcxr` found for struct `petgraph_fsm::StateMachine<'_, petgraph::Graph<Mode, Keymap>, &str, std::string::String>` in the current scope",
     "output_type": "error",
     "traceback": [
      "keymap_sm.draw_evcxr();",
      "\u001b[91m          ^^^^^^^^^^\u001b[0m \u001b[94mmethod not found in `petgraph_fsm::StateMachine<'_, petgraph::Graph<Mode, Keymap>, &str, std::string::String>`\u001b[0m",
      "no method named `draw_evcxr` found for struct `petgraph_fsm::StateMachine<'_, petgraph::Graph<Mode, Keymap>, &str, std::string::String>` in the current scope"
     ]
    }
   ],
   "source": [
    "let mut keymap : Graph<Mode, Keymap, petgraph::Directed> = Graph::new();\n",
    "let visual = keymap.add_node(Mode::VISUAL);\n",
    "let insert = keymap.add_node(Mode::INSERT);\n",
    "let command = keymap.add_node(Mode::COMMAND);\n",
    "\n",
    "keymap.add_edge(\n",
    "    visual,\n",
    "    command,\n",
    "    Keymap{\n",
    "        key: \"esc\".to_string(),\n",
    "        action: \"\".to_string(),\n",
    "    }\n",
    ");\n",
    "\n",
    "keymap.add_edge(\n",
    "    visual,\n",
    "    command,\n",
    "    Keymap{\n",
    "        key: \"x\".to_string(),\n",
    "        action: \"cut\".to_string(),\n",
    "    }\n",
    ");\n",
    "\n",
    "keymap.add_edge(\n",
    "    insert,\n",
    "    command,\n",
    "    Keymap{\n",
    "        key: \"esc\".to_string(),\n",
    "        action: \"\".to_string(),\n",
    "    }\n",
    ");\n",
    "\n",
    "keymap.add_edge(\n",
    "    command,\n",
    "    visual,\n",
    "    Keymap{\n",
    "        key: \"v\".to_string(),\n",
    "        action: \"\".to_string(),\n",
    "    }\n",
    ");\n",
    "\n",
    "keymap.add_edge(\n",
    "    command,\n",
    "    insert,\n",
    "    Keymap{\n",
    "        key: \"i\".to_string(),\n",
    "        action: \"\".to_string(),\n",
    "    }\n",
    ");\n",
    "\n",
    "keymap.add_edge(\n",
    "    command,\n",
    "    insert,\n",
    "    Keymap{\n",
    "        key: \"o\".to_string(),\n",
    "        action: \"add new line\".to_string(),\n",
    "    }\n",
    ");\n",
    "\n",
    "keymap.add_edge(\n",
    "    insert,\n",
    "    insert,\n",
    "    Keymap{\n",
    "        key: \"a\".to_string(),\n",
    "        action: \"insert 'a'\".to_string(),\n",
    "    }\n",
    ");\n",
    "\n",
    "keymap.add_edge(\n",
    "    insert,\n",
    "    insert,\n",
    "    Keymap{\n",
    "        key: \"b\".to_string(),\n",
    "        action: \"insert 'b'\".to_string(),\n",
    "    }\n",
    ");\n",
    "\n",
    "keymap.add_edge(\n",
    "    insert,\n",
    "    insert,\n",
    "    Keymap{\n",
    "        key: \"c\".to_string(),\n",
    "        action: \"insert 'c'\".to_string(),\n",
    "    }\n",
    ");\n",
    "\n",
    "keymap.add_edge(\n",
    "    command,\n",
    "    command,\n",
    "    Keymap{\n",
    "        key: \"h\".to_string(),\n",
    "        action: \"left\".to_string(),\n",
    "    }\n",
    ");\n",
    "\n",
    "keymap.add_edge(\n",
    "    command,\n",
    "    command,\n",
    "    Keymap{\n",
    "        key: \"j\".to_string(),\n",
    "        action: \"down\".to_string(),\n",
    "    }\n",
    ");\n",
    "\n",
    "keymap.add_edge(\n",
    "    command,\n",
    "    command,\n",
    "    Keymap{\n",
    "        key: \"k\".to_string(),\n",
    "        action: \"up\".to_string(),\n",
    "    }\n",
    ");\n",
    "\n",
    "keymap.add_edge(\n",
    "    command,\n",
    "    command,\n",
    "    Keymap{\n",
    "        key: \"l\".to_string(),\n",
    "        action: \"right\".to_string(),\n",
    "    }\n",
    ");\n",
    "\n",
    "keymap.add_edge(\n",
    "    visual,\n",
    "    visual,\n",
    "    Keymap{\n",
    "        key: \"h\".to_string(),\n",
    "        action: \"left\".to_string(),\n",
    "    }\n",
    ");\n",
    "\n",
    "keymap.add_edge(\n",
    "    visual,\n",
    "    visual,\n",
    "    Keymap{\n",
    "        key: \"j\".to_string(),\n",
    "        action: \"down\".to_string(),\n",
    "    }\n",
    ");\n",
    "\n",
    "keymap.add_edge(\n",
    "    visual,\n",
    "    visual,\n",
    "    Keymap{\n",
    "        key: \"k\".to_string(),\n",
    "        action: \"up\".to_string(),\n",
    "    }\n",
    ");\n",
    "\n",
    "keymap.add_edge(\n",
    "    visual,\n",
    "    visual,\n",
    "    Keymap{\n",
    "        key: \"l\".to_string(),\n",
    "        action: \"right\".to_string(),\n",
    "    }\n",
    ");\n",
    "\n",
    "let mut keymap_sm = StateMachine::new(\n",
    "    keymap,\n",
    "    Mode::COMMAND,\n",
    "    &|input: &str, ew: Keymap| {\n",
    "        if input == ew.key {Some(ew.action)} else {None}\n",
    "    },\n",
    ").unwrap();\n",
    "\n",
    "keymap_sm.draw_evcxr();"
   ]
  },
  {
   "cell_type": "markdown",
   "metadata": {},
   "source": [
    "Obviously, the full keymap is far more messy than this, but you can already see how the state machine works."
   ]
  },
  {
   "cell_type": "code",
   "execution_count": 10,
   "metadata": {},
   "outputs": [
    {
     "ename": "Error",
     "evalue": "cannot find value `keymap_sm` in this scope",
     "output_type": "error",
     "traceback": [
      "    let o = keymap_sm.next(\"o\").unwrap();",
      "\u001b[91m            ^^^^^^^^^\u001b[0m \u001b[94mnot found in this scope\u001b[0m",
      "cannot find value `keymap_sm` in this scope"
     ]
    }
   ],
   "source": [
    "{\n",
    "    let o = keymap_sm.next(\"o\").unwrap();\n",
    "    println!(\"Action: {} State: {}\", o.0, o.1);\n",
    "}"
   ]
  },
  {
   "cell_type": "code",
   "execution_count": 11,
   "metadata": {},
   "outputs": [
    {
     "ename": "Error",
     "evalue": "cannot find value `keymap_sm` in this scope",
     "output_type": "error",
     "traceback": [
      "keymap_sm.draw_evcxr();",
      "\u001b[91m^^^^^^^^^\u001b[0m \u001b[94mnot found in this scope\u001b[0m",
      "cannot find value `keymap_sm` in this scope"
     ]
    }
   ],
   "source": [
    "keymap_sm.draw_evcxr();"
   ]
  },
  {
   "cell_type": "code",
   "execution_count": 12,
   "metadata": {},
   "outputs": [
    {
     "ename": "Error",
     "evalue": "cannot find value `keymap_sm` in this scope",
     "output_type": "error",
     "traceback": [
      "    let o = keymap_sm.next(\"esc\").unwrap();",
      "\u001b[91m            ^^^^^^^^^\u001b[0m \u001b[94mnot found in this scope\u001b[0m",
      "cannot find value `keymap_sm` in this scope"
     ]
    }
   ],
   "source": [
    "{\n",
    "    let o = keymap_sm.next(\"esc\").unwrap();\n",
    "    println!(\"Action: {} State: {}\", o.0, o.1);\n",
    "}"
   ]
  },
  {
   "cell_type": "code",
   "execution_count": 13,
   "metadata": {},
   "outputs": [
    {
     "ename": "Error",
     "evalue": "cannot find value `keymap_sm` in this scope",
     "output_type": "error",
     "traceback": [
      "keymap_sm.draw_evcxr();",
      "\u001b[91m^^^^^^^^^\u001b[0m \u001b[94mnot found in this scope\u001b[0m",
      "cannot find value `keymap_sm` in this scope"
     ]
    }
   ],
   "source": [
    "keymap_sm.draw_evcxr();"
   ]
  },
  {
   "cell_type": "code",
   "execution_count": 14,
   "metadata": {},
   "outputs": [
    {
     "ename": "Error",
     "evalue": "cannot find value `keymap_sm` in this scope",
     "output_type": "error",
     "traceback": [
      "    let o = keymap_sm.next(\"h\").unwrap();",
      "\u001b[91m            ^^^^^^^^^\u001b[0m \u001b[94mnot found in this scope\u001b[0m",
      "cannot find value `keymap_sm` in this scope"
     ]
    }
   ],
   "source": [
    "{\n",
    "    let o = keymap_sm.next(\"h\").unwrap();\n",
    "    println!(\"Action: {} State: {}\", o.0, o.1);\n",
    "}"
   ]
  },
  {
   "cell_type": "code",
   "execution_count": 15,
   "metadata": {},
   "outputs": [
    {
     "ename": "Error",
     "evalue": "cannot find value `keymap_sm` in this scope",
     "output_type": "error",
     "traceback": [
      "keymap_sm.draw_evcxr();",
      "\u001b[91m^^^^^^^^^\u001b[0m \u001b[94mnot found in this scope\u001b[0m",
      "cannot find value `keymap_sm` in this scope"
     ]
    }
   ],
   "source": [
    "keymap_sm.draw_evcxr();"
   ]
  },
  {
   "cell_type": "code",
   "execution_count": 16,
   "metadata": {},
   "outputs": [
    {
     "ename": "Error",
     "evalue": "cannot find value `keymap_sm` in this scope",
     "output_type": "error",
     "traceback": [
      "    let o = keymap_sm.next(\"v\").unwrap();",
      "\u001b[91m            ^^^^^^^^^\u001b[0m \u001b[94mnot found in this scope\u001b[0m",
      "cannot find value `keymap_sm` in this scope"
     ]
    }
   ],
   "source": [
    "{\n",
    "    let o = keymap_sm.next(\"v\").unwrap();\n",
    "    println!(\"Action: {} State: {}\", o.0, o.1);\n",
    "}"
   ]
  },
  {
   "cell_type": "code",
   "execution_count": 17,
   "metadata": {},
   "outputs": [
    {
     "ename": "Error",
     "evalue": "cannot find value `keymap_sm` in this scope",
     "output_type": "error",
     "traceback": [
      "    let o = keymap_sm.next(\"h\").unwrap();",
      "\u001b[91m            ^^^^^^^^^\u001b[0m \u001b[94mnot found in this scope\u001b[0m",
      "cannot find value `keymap_sm` in this scope"
     ]
    }
   ],
   "source": [
    "{\n",
    "    let o = keymap_sm.next(\"h\").unwrap();\n",
    "    println!(\"Action: {} State: {}\", o.0, o.1);\n",
    "}"
   ]
  },
  {
   "cell_type": "code",
   "execution_count": 18,
   "metadata": {},
   "outputs": [
    {
     "ename": "Error",
     "evalue": "cannot find value `keymap_sm` in this scope",
     "output_type": "error",
     "traceback": [
      "    let o = keymap_sm.next(\"h\").unwrap();",
      "\u001b[91m            ^^^^^^^^^\u001b[0m \u001b[94mnot found in this scope\u001b[0m",
      "cannot find value `keymap_sm` in this scope"
     ]
    }
   ],
   "source": [
    "{\n",
    "    let o = keymap_sm.next(\"h\").unwrap();\n",
    "    println!(\"Action: {} State: {}\", o.0, o.1);\n",
    "}"
   ]
  },
  {
   "cell_type": "code",
   "execution_count": 19,
   "metadata": {},
   "outputs": [
    {
     "ename": "Error",
     "evalue": "cannot find value `keymap_sm` in this scope",
     "output_type": "error",
     "traceback": [
      "keymap_sm.draw_evcxr();",
      "\u001b[91m^^^^^^^^^\u001b[0m \u001b[94mnot found in this scope\u001b[0m",
      "cannot find value `keymap_sm` in this scope"
     ]
    }
   ],
   "source": [
    "keymap_sm.draw_evcxr();"
   ]
  },
  {
   "cell_type": "code",
   "execution_count": 20,
   "metadata": {},
   "outputs": [
    {
     "ename": "Error",
     "evalue": "cannot find value `keymap_sm` in this scope",
     "output_type": "error",
     "traceback": [
      "    let o = keymap_sm.next(\"x\").unwrap();",
      "\u001b[91m            ^^^^^^^^^\u001b[0m \u001b[94mnot found in this scope\u001b[0m",
      "cannot find value `keymap_sm` in this scope"
     ]
    }
   ],
   "source": [
    "{\n",
    "    let o = keymap_sm.next(\"x\").unwrap();\n",
    "    println!(\"Action: {} State: {}\", o.0, o.1);\n",
    "}"
   ]
  },
  {
   "cell_type": "code",
   "execution_count": 21,
   "metadata": {},
   "outputs": [
    {
     "ename": "Error",
     "evalue": "cannot find value `keymap_sm` in this scope",
     "output_type": "error",
     "traceback": [
      "keymap_sm.draw_evcxr();",
      "\u001b[91m^^^^^^^^^\u001b[0m \u001b[94mnot found in this scope\u001b[0m",
      "cannot find value `keymap_sm` in this scope"
     ]
    }
   ],
   "source": [
    "keymap_sm.draw_evcxr();"
   ]
  },
  {
   "cell_type": "markdown",
   "metadata": {},
   "source": [
    "That really should be all you need to know in order to get working with petgraph-pfsm. Happy hacking!"
   ]
  }
 ],
 "metadata": {
  "kernelspec": {
   "display_name": "Rust",
   "language": "rust",
   "name": "rust"
  },
  "language_info": {
   "codemirror_mode": "rust",
   "file_extension": ".rs",
   "mimetype": "text/rust",
   "name": "Rust",
   "pygment_lexer": "rust",
   "version": ""
  }
 },
 "nbformat": 4,
 "nbformat_minor": 2
}
